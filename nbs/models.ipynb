{
 "cells": [
  {
   "cell_type": "code",
   "execution_count": 1,
   "id": "0d166f78",
   "metadata": {},
   "outputs": [],
   "source": [
    "%load_ext autoreload\n",
    "%autoreload 3"
   ]
  },
  {
   "cell_type": "code",
   "execution_count": 2,
   "id": "026bff88",
   "metadata": {},
   "outputs": [],
   "source": [
    "import torch\n",
    "import torch.nn as nn"
   ]
  },
  {
   "cell_type": "markdown",
   "id": "fc9176b0",
   "metadata": {},
   "source": [
    "## ResNet18"
   ]
  },
  {
   "cell_type": "code",
   "execution_count": 3,
   "id": "755936e9",
   "metadata": {},
   "outputs": [],
   "source": [
    "from torchvision import models\n",
    "\n",
    "resnet18 = models.resnet18()"
   ]
  },
  {
   "cell_type": "code",
   "execution_count": 86,
   "id": "20ed2715",
   "metadata": {},
   "outputs": [],
   "source": [
    "from thesis.writer_code.models import BatchNorm2dAdaptive\n",
    "\n",
    "def replace_bn_adaptive(module, writer_code_size):\n",
    "    \"\"\"\n",
    "    Replace all nn.BatchNorm2d layers with BatchNorm2dAdaptive layers.\n",
    "    \n",
    "    Returns:\n",
    "        list of all newly added BatchNorm2dAdaptive modules\n",
    "    \"\"\"\n",
    "    new_mods = []\n",
    "    if isinstance(module, BatchNorm2dAdaptive):\n",
    "        return new_mods\n",
    "    for attr_str in dir(module):\n",
    "        attr = getattr(module, attr_str)\n",
    "        if type(attr) == nn.BatchNorm2d:\n",
    "            new_bn = BatchNorm2dAdaptive(attr, writer_code_size)\n",
    "            setattr(module, attr_str, new_bn)\n",
    "            new_mods.append(new_bn)\n",
    "            \n",
    "    for child_module in module.children():\n",
    "        new_mods.extend(replace_bn_adaptive(child_module, writer_code_size))\n",
    "    return new_mods\n",
    "            \n",
    "bn_layers = replace_bn_adaptive(resnet18, 64)"
   ]
  },
  {
   "cell_type": "code",
   "execution_count": 87,
   "id": "7db095e4",
   "metadata": {},
   "outputs": [],
   "source": [
    "from typing import Sequence\n",
    "\n",
    "def set_writer_code(bn_layers: Sequence[BatchNorm2dAdaptive], writer_code: torch.Tensor):\n",
    "    \"\"\"Set writer_code attribute for all BatchNorm2dAdaptive layers\"\"\"\n",
    "    for l in bn_layers:\n",
    "        l.writer_code = writer_code\n",
    "        \n",
    "set_writer_code(bn_layers, torch.rand(2, 64))"
   ]
  },
  {
   "cell_type": "code",
   "execution_count": 4,
   "id": "52b0303f",
   "metadata": {
    "scrolled": true
   },
   "outputs": [
    {
     "data": {
      "text/plain": [
       "ResNet(\n",
       "  (conv1): Conv2d(3, 64, kernel_size=(7, 7), stride=(2, 2), padding=(3, 3), bias=False)\n",
       "  (bn1): BatchNorm2d(64, eps=1e-05, momentum=0.1, affine=True, track_running_stats=True)\n",
       "  (relu): ReLU(inplace=True)\n",
       "  (maxpool): MaxPool2d(kernel_size=3, stride=2, padding=1, dilation=1, ceil_mode=False)\n",
       "  (layer1): Sequential(\n",
       "    (0): BasicBlock(\n",
       "      (conv1): Conv2d(64, 64, kernel_size=(3, 3), stride=(1, 1), padding=(1, 1), bias=False)\n",
       "      (bn1): BatchNorm2d(64, eps=1e-05, momentum=0.1, affine=True, track_running_stats=True)\n",
       "      (relu): ReLU(inplace=True)\n",
       "      (conv2): Conv2d(64, 64, kernel_size=(3, 3), stride=(1, 1), padding=(1, 1), bias=False)\n",
       "      (bn2): BatchNorm2d(64, eps=1e-05, momentum=0.1, affine=True, track_running_stats=True)\n",
       "    )\n",
       "    (1): BasicBlock(\n",
       "      (conv1): Conv2d(64, 64, kernel_size=(3, 3), stride=(1, 1), padding=(1, 1), bias=False)\n",
       "      (bn1): BatchNorm2d(64, eps=1e-05, momentum=0.1, affine=True, track_running_stats=True)\n",
       "      (relu): ReLU(inplace=True)\n",
       "      (conv2): Conv2d(64, 64, kernel_size=(3, 3), stride=(1, 1), padding=(1, 1), bias=False)\n",
       "      (bn2): BatchNorm2d(64, eps=1e-05, momentum=0.1, affine=True, track_running_stats=True)\n",
       "    )\n",
       "  )\n",
       "  (layer2): Sequential(\n",
       "    (0): BasicBlock(\n",
       "      (conv1): Conv2d(64, 128, kernel_size=(3, 3), stride=(2, 2), padding=(1, 1), bias=False)\n",
       "      (bn1): BatchNorm2d(128, eps=1e-05, momentum=0.1, affine=True, track_running_stats=True)\n",
       "      (relu): ReLU(inplace=True)\n",
       "      (conv2): Conv2d(128, 128, kernel_size=(3, 3), stride=(1, 1), padding=(1, 1), bias=False)\n",
       "      (bn2): BatchNorm2d(128, eps=1e-05, momentum=0.1, affine=True, track_running_stats=True)\n",
       "      (downsample): Sequential(\n",
       "        (0): Conv2d(64, 128, kernel_size=(1, 1), stride=(2, 2), bias=False)\n",
       "        (1): BatchNorm2d(128, eps=1e-05, momentum=0.1, affine=True, track_running_stats=True)\n",
       "      )\n",
       "    )\n",
       "    (1): BasicBlock(\n",
       "      (conv1): Conv2d(128, 128, kernel_size=(3, 3), stride=(1, 1), padding=(1, 1), bias=False)\n",
       "      (bn1): BatchNorm2d(128, eps=1e-05, momentum=0.1, affine=True, track_running_stats=True)\n",
       "      (relu): ReLU(inplace=True)\n",
       "      (conv2): Conv2d(128, 128, kernel_size=(3, 3), stride=(1, 1), padding=(1, 1), bias=False)\n",
       "      (bn2): BatchNorm2d(128, eps=1e-05, momentum=0.1, affine=True, track_running_stats=True)\n",
       "    )\n",
       "  )\n",
       "  (layer3): Sequential(\n",
       "    (0): BasicBlock(\n",
       "      (conv1): Conv2d(128, 256, kernel_size=(3, 3), stride=(2, 2), padding=(1, 1), bias=False)\n",
       "      (bn1): BatchNorm2d(256, eps=1e-05, momentum=0.1, affine=True, track_running_stats=True)\n",
       "      (relu): ReLU(inplace=True)\n",
       "      (conv2): Conv2d(256, 256, kernel_size=(3, 3), stride=(1, 1), padding=(1, 1), bias=False)\n",
       "      (bn2): BatchNorm2d(256, eps=1e-05, momentum=0.1, affine=True, track_running_stats=True)\n",
       "      (downsample): Sequential(\n",
       "        (0): Conv2d(128, 256, kernel_size=(1, 1), stride=(2, 2), bias=False)\n",
       "        (1): BatchNorm2d(256, eps=1e-05, momentum=0.1, affine=True, track_running_stats=True)\n",
       "      )\n",
       "    )\n",
       "    (1): BasicBlock(\n",
       "      (conv1): Conv2d(256, 256, kernel_size=(3, 3), stride=(1, 1), padding=(1, 1), bias=False)\n",
       "      (bn1): BatchNorm2d(256, eps=1e-05, momentum=0.1, affine=True, track_running_stats=True)\n",
       "      (relu): ReLU(inplace=True)\n",
       "      (conv2): Conv2d(256, 256, kernel_size=(3, 3), stride=(1, 1), padding=(1, 1), bias=False)\n",
       "      (bn2): BatchNorm2d(256, eps=1e-05, momentum=0.1, affine=True, track_running_stats=True)\n",
       "    )\n",
       "  )\n",
       "  (layer4): Sequential(\n",
       "    (0): BasicBlock(\n",
       "      (conv1): Conv2d(256, 512, kernel_size=(3, 3), stride=(2, 2), padding=(1, 1), bias=False)\n",
       "      (bn1): BatchNorm2d(512, eps=1e-05, momentum=0.1, affine=True, track_running_stats=True)\n",
       "      (relu): ReLU(inplace=True)\n",
       "      (conv2): Conv2d(512, 512, kernel_size=(3, 3), stride=(1, 1), padding=(1, 1), bias=False)\n",
       "      (bn2): BatchNorm2d(512, eps=1e-05, momentum=0.1, affine=True, track_running_stats=True)\n",
       "      (downsample): Sequential(\n",
       "        (0): Conv2d(256, 512, kernel_size=(1, 1), stride=(2, 2), bias=False)\n",
       "        (1): BatchNorm2d(512, eps=1e-05, momentum=0.1, affine=True, track_running_stats=True)\n",
       "      )\n",
       "    )\n",
       "    (1): BasicBlock(\n",
       "      (conv1): Conv2d(512, 512, kernel_size=(3, 3), stride=(1, 1), padding=(1, 1), bias=False)\n",
       "      (bn1): BatchNorm2d(512, eps=1e-05, momentum=0.1, affine=True, track_running_stats=True)\n",
       "      (relu): ReLU(inplace=True)\n",
       "      (conv2): Conv2d(512, 512, kernel_size=(3, 3), stride=(1, 1), padding=(1, 1), bias=False)\n",
       "      (bn2): BatchNorm2d(512, eps=1e-05, momentum=0.1, affine=True, track_running_stats=True)\n",
       "    )\n",
       "  )\n",
       "  (avgpool): AdaptiveAvgPool2d(output_size=(1, 1))\n",
       "  (fc): Linear(in_features=512, out_features=1000, bias=True)\n",
       ")"
      ]
     },
     "execution_count": 4,
     "metadata": {},
     "output_type": "execute_result"
    }
   ],
   "source": [
    "resnet18"
   ]
  },
  {
   "cell_type": "code",
   "execution_count": 80,
   "id": "2e7629bc",
   "metadata": {
    "scrolled": true
   },
   "outputs": [
    {
     "name": "stdout",
     "output_type": "stream",
     "text": [
      "----------------------------------------------------------------\n",
      "        Layer (type)               Output Shape         Param #\n",
      "================================================================\n",
      "            Conv2d-1           [-1, 64, 64, 64]           9,408\n",
      "       BatchNorm2d-2           [-1, 64, 64, 64]             128\n",
      "              ReLU-3           [-1, 64, 64, 64]               0\n",
      "         MaxPool2d-4           [-1, 64, 32, 32]               0\n",
      "            Conv2d-5           [-1, 64, 32, 32]          36,864\n",
      "       BatchNorm2d-6           [-1, 64, 32, 32]             128\n",
      "              ReLU-7           [-1, 64, 32, 32]               0\n",
      "            Conv2d-8           [-1, 64, 32, 32]          36,864\n",
      "       BatchNorm2d-9           [-1, 64, 32, 32]             128\n",
      "             ReLU-10           [-1, 64, 32, 32]               0\n",
      "       BasicBlock-11           [-1, 64, 32, 32]               0\n",
      "           Conv2d-12           [-1, 64, 32, 32]          36,864\n",
      "      BatchNorm2d-13           [-1, 64, 32, 32]             128\n",
      "             ReLU-14           [-1, 64, 32, 32]               0\n",
      "           Conv2d-15           [-1, 64, 32, 32]          36,864\n",
      "      BatchNorm2d-16           [-1, 64, 32, 32]             128\n",
      "             ReLU-17           [-1, 64, 32, 32]               0\n",
      "       BasicBlock-18           [-1, 64, 32, 32]               0\n",
      "           Conv2d-19          [-1, 128, 16, 16]          73,728\n",
      "      BatchNorm2d-20          [-1, 128, 16, 16]             256\n",
      "             ReLU-21          [-1, 128, 16, 16]               0\n",
      "           Conv2d-22          [-1, 128, 16, 16]         147,456\n",
      "      BatchNorm2d-23          [-1, 128, 16, 16]             256\n",
      "           Conv2d-24          [-1, 128, 16, 16]           8,192\n",
      "      BatchNorm2d-25          [-1, 128, 16, 16]             256\n",
      "             ReLU-26          [-1, 128, 16, 16]               0\n",
      "       BasicBlock-27          [-1, 128, 16, 16]               0\n",
      "           Conv2d-28          [-1, 128, 16, 16]         147,456\n",
      "      BatchNorm2d-29          [-1, 128, 16, 16]             256\n",
      "             ReLU-30          [-1, 128, 16, 16]               0\n",
      "           Conv2d-31          [-1, 128, 16, 16]         147,456\n",
      "      BatchNorm2d-32          [-1, 128, 16, 16]             256\n",
      "             ReLU-33          [-1, 128, 16, 16]               0\n",
      "       BasicBlock-34          [-1, 128, 16, 16]               0\n",
      "           Conv2d-35            [-1, 256, 8, 8]         294,912\n",
      "      BatchNorm2d-36            [-1, 256, 8, 8]             512\n",
      "             ReLU-37            [-1, 256, 8, 8]               0\n",
      "           Conv2d-38            [-1, 256, 8, 8]         589,824\n",
      "      BatchNorm2d-39            [-1, 256, 8, 8]             512\n",
      "           Conv2d-40            [-1, 256, 8, 8]          32,768\n",
      "      BatchNorm2d-41            [-1, 256, 8, 8]             512\n",
      "             ReLU-42            [-1, 256, 8, 8]               0\n",
      "       BasicBlock-43            [-1, 256, 8, 8]               0\n",
      "           Conv2d-44            [-1, 256, 8, 8]         589,824\n",
      "      BatchNorm2d-45            [-1, 256, 8, 8]             512\n",
      "             ReLU-46            [-1, 256, 8, 8]               0\n",
      "           Conv2d-47            [-1, 256, 8, 8]         589,824\n",
      "      BatchNorm2d-48            [-1, 256, 8, 8]             512\n",
      "             ReLU-49            [-1, 256, 8, 8]               0\n",
      "       BasicBlock-50            [-1, 256, 8, 8]               0\n",
      "           Conv2d-51            [-1, 512, 4, 4]       1,179,648\n",
      "      BatchNorm2d-52            [-1, 512, 4, 4]           1,024\n",
      "             ReLU-53            [-1, 512, 4, 4]               0\n",
      "           Conv2d-54            [-1, 512, 4, 4]       2,359,296\n",
      "      BatchNorm2d-55            [-1, 512, 4, 4]           1,024\n",
      "           Conv2d-56            [-1, 512, 4, 4]         131,072\n",
      "      BatchNorm2d-57            [-1, 512, 4, 4]           1,024\n",
      "             ReLU-58            [-1, 512, 4, 4]               0\n",
      "       BasicBlock-59            [-1, 512, 4, 4]               0\n",
      "           Conv2d-60            [-1, 512, 4, 4]       2,359,296\n",
      "      BatchNorm2d-61            [-1, 512, 4, 4]           1,024\n",
      "             ReLU-62            [-1, 512, 4, 4]               0\n",
      "           Conv2d-63            [-1, 512, 4, 4]       2,359,296\n",
      "      BatchNorm2d-64            [-1, 512, 4, 4]           1,024\n",
      "             ReLU-65            [-1, 512, 4, 4]               0\n",
      "       BasicBlock-66            [-1, 512, 4, 4]               0\n",
      "AdaptiveAvgPool2d-67            [-1, 512, 1, 1]               0\n",
      "           Linear-68                 [-1, 1000]         513,000\n",
      "================================================================\n",
      "Total params: 11,689,512\n",
      "Trainable params: 11,689,512\n",
      "Non-trainable params: 0\n",
      "----------------------------------------------------------------\n",
      "Input size (MB): 0.19\n",
      "Forward/backward pass size (MB): 20.51\n",
      "Params size (MB): 44.59\n",
      "Estimated Total Size (MB): 65.29\n",
      "----------------------------------------------------------------\n"
     ]
    }
   ],
   "source": [
    "from torchsummary import summary\n",
    "\n",
    "summary(resnet18, input_size=(3, 128, 128))"
   ]
  },
  {
   "cell_type": "markdown",
   "id": "01922511",
   "metadata": {},
   "source": [
    "## ResNet31"
   ]
  },
  {
   "cell_type": "code",
   "execution_count": 2,
   "id": "813f8d54",
   "metadata": {},
   "outputs": [],
   "source": [
    "from htr.models.sar.sar import ShowAttendRead"
   ]
  },
  {
   "cell_type": "code",
   "execution_count": 3,
   "id": "5eb4a507",
   "metadata": {
    "scrolled": true
   },
   "outputs": [
    {
     "ename": "TypeError",
     "evalue": "__init__() missing 1 required positional argument: 'label_encoder'",
     "output_type": "error",
     "traceback": [
      "\u001B[0;31m---------------------------------------------------------------------------\u001B[0m",
      "\u001B[0;31mTypeError\u001B[0m                                 Traceback (most recent call last)",
      "Input \u001B[0;32mIn [3]\u001B[0m, in \u001B[0;36m<module>\u001B[0;34m\u001B[0m\n\u001B[0;32m----> 1\u001B[0m model \u001B[38;5;241m=\u001B[39m \u001B[43mShowAttendRead\u001B[49m\u001B[43m(\u001B[49m\u001B[43m)\u001B[49m\n\u001B[1;32m      2\u001B[0m resnet31 \u001B[38;5;241m=\u001B[39m model\u001B[38;5;241m.\u001B[39mencoder\n\u001B[1;32m      3\u001B[0m resnet31\n",
      "\u001B[0;31mTypeError\u001B[0m: __init__() missing 1 required positional argument: 'label_encoder'"
     ]
    }
   ],
   "source": [
    "model = ShowAttendRead()\n",
    "resnet31 = model.encoder\n",
    "resnet31"
   ]
  },
  {
   "cell_type": "code",
   "execution_count": 17,
   "id": "5923255c",
   "metadata": {},
   "outputs": [
    {
     "name": "stdout",
     "output_type": "stream",
     "text": [
      "----------------------------------------------------------------\n",
      "        Layer (type)               Output Shape         Param #\n",
      "================================================================\n",
      "            Conv2d-1         [-1, 64, 128, 128]             640\n",
      "       BatchNorm2d-2         [-1, 64, 128, 128]             128\n",
      "              ReLU-3         [-1, 64, 128, 128]               0\n",
      "            Conv2d-4        [-1, 128, 128, 128]          73,856\n",
      "       BatchNorm2d-5        [-1, 128, 128, 128]             256\n",
      "              ReLU-6        [-1, 128, 128, 128]               0\n",
      "         MaxPool2d-7          [-1, 128, 64, 64]               0\n",
      "            Conv2d-8          [-1, 256, 64, 64]         294,912\n",
      "       BatchNorm2d-9          [-1, 256, 64, 64]             512\n",
      "             ReLU-10          [-1, 256, 64, 64]               0\n",
      "           Conv2d-11          [-1, 256, 64, 64]         589,824\n",
      "      BatchNorm2d-12          [-1, 256, 64, 64]             512\n",
      "           Conv2d-13          [-1, 256, 64, 64]          32,768\n",
      "      BatchNorm2d-14          [-1, 256, 64, 64]             512\n",
      "             ReLU-15          [-1, 256, 64, 64]               0\n",
      "       BasicBlock-16          [-1, 256, 64, 64]               0\n",
      "           Conv2d-17          [-1, 256, 64, 64]         590,080\n",
      "      BatchNorm2d-18          [-1, 256, 64, 64]             512\n",
      "             ReLU-19          [-1, 256, 64, 64]               0\n",
      "        MaxPool2d-20          [-1, 256, 32, 32]               0\n",
      "           Conv2d-21          [-1, 256, 32, 32]         589,824\n",
      "      BatchNorm2d-22          [-1, 256, 32, 32]             512\n",
      "             ReLU-23          [-1, 256, 32, 32]               0\n",
      "           Conv2d-24          [-1, 256, 32, 32]         589,824\n",
      "      BatchNorm2d-25          [-1, 256, 32, 32]             512\n",
      "             ReLU-26          [-1, 256, 32, 32]               0\n",
      "       BasicBlock-27          [-1, 256, 32, 32]               0\n",
      "           Conv2d-28          [-1, 256, 32, 32]         589,824\n",
      "      BatchNorm2d-29          [-1, 256, 32, 32]             512\n",
      "             ReLU-30          [-1, 256, 32, 32]               0\n",
      "           Conv2d-31          [-1, 256, 32, 32]         589,824\n",
      "      BatchNorm2d-32          [-1, 256, 32, 32]             512\n",
      "             ReLU-33          [-1, 256, 32, 32]               0\n",
      "       BasicBlock-34          [-1, 256, 32, 32]               0\n",
      "           Conv2d-35          [-1, 256, 32, 32]         590,080\n",
      "      BatchNorm2d-36          [-1, 256, 32, 32]             512\n",
      "             ReLU-37          [-1, 256, 32, 32]               0\n",
      "        MaxPool2d-38          [-1, 256, 16, 32]               0\n",
      "           Conv2d-39          [-1, 512, 16, 32]       1,179,648\n",
      "      BatchNorm2d-40          [-1, 512, 16, 32]           1,024\n",
      "             ReLU-41          [-1, 512, 16, 32]               0\n",
      "           Conv2d-42          [-1, 512, 16, 32]       2,359,296\n",
      "      BatchNorm2d-43          [-1, 512, 16, 32]           1,024\n",
      "           Conv2d-44          [-1, 512, 16, 32]         131,072\n",
      "      BatchNorm2d-45          [-1, 512, 16, 32]           1,024\n",
      "             ReLU-46          [-1, 512, 16, 32]               0\n",
      "       BasicBlock-47          [-1, 512, 16, 32]               0\n",
      "           Conv2d-48          [-1, 512, 16, 32]       2,359,296\n",
      "      BatchNorm2d-49          [-1, 512, 16, 32]           1,024\n",
      "             ReLU-50          [-1, 512, 16, 32]               0\n",
      "           Conv2d-51          [-1, 512, 16, 32]       2,359,296\n",
      "      BatchNorm2d-52          [-1, 512, 16, 32]           1,024\n",
      "             ReLU-53          [-1, 512, 16, 32]               0\n",
      "       BasicBlock-54          [-1, 512, 16, 32]               0\n",
      "           Conv2d-55          [-1, 512, 16, 32]       2,359,296\n",
      "      BatchNorm2d-56          [-1, 512, 16, 32]           1,024\n",
      "             ReLU-57          [-1, 512, 16, 32]               0\n",
      "           Conv2d-58          [-1, 512, 16, 32]       2,359,296\n",
      "      BatchNorm2d-59          [-1, 512, 16, 32]           1,024\n",
      "             ReLU-60          [-1, 512, 16, 32]               0\n",
      "       BasicBlock-61          [-1, 512, 16, 32]               0\n",
      "           Conv2d-62          [-1, 512, 16, 32]       2,359,296\n",
      "      BatchNorm2d-63          [-1, 512, 16, 32]           1,024\n",
      "             ReLU-64          [-1, 512, 16, 32]               0\n",
      "           Conv2d-65          [-1, 512, 16, 32]       2,359,296\n",
      "      BatchNorm2d-66          [-1, 512, 16, 32]           1,024\n",
      "             ReLU-67          [-1, 512, 16, 32]               0\n",
      "       BasicBlock-68          [-1, 512, 16, 32]               0\n",
      "           Conv2d-69          [-1, 512, 16, 32]       2,359,296\n",
      "      BatchNorm2d-70          [-1, 512, 16, 32]           1,024\n",
      "             ReLU-71          [-1, 512, 16, 32]               0\n",
      "           Conv2d-72          [-1, 512, 16, 32]       2,359,296\n",
      "      BatchNorm2d-73          [-1, 512, 16, 32]           1,024\n",
      "             ReLU-74          [-1, 512, 16, 32]               0\n",
      "       BasicBlock-75          [-1, 512, 16, 32]               0\n",
      "           Conv2d-76          [-1, 512, 16, 32]       2,359,808\n",
      "      BatchNorm2d-77          [-1, 512, 16, 32]           1,024\n",
      "             ReLU-78          [-1, 512, 16, 32]               0\n",
      "           Conv2d-79          [-1, 512, 16, 32]       2,359,296\n",
      "      BatchNorm2d-80          [-1, 512, 16, 32]           1,024\n",
      "             ReLU-81          [-1, 512, 16, 32]               0\n",
      "           Conv2d-82          [-1, 512, 16, 32]       2,359,296\n",
      "      BatchNorm2d-83          [-1, 512, 16, 32]           1,024\n",
      "             ReLU-84          [-1, 512, 16, 32]               0\n",
      "       BasicBlock-85          [-1, 512, 16, 32]               0\n",
      "           Conv2d-86          [-1, 512, 16, 32]       2,359,296\n",
      "      BatchNorm2d-87          [-1, 512, 16, 32]           1,024\n",
      "             ReLU-88          [-1, 512, 16, 32]               0\n",
      "           Conv2d-89          [-1, 512, 16, 32]       2,359,296\n",
      "      BatchNorm2d-90          [-1, 512, 16, 32]           1,024\n",
      "             ReLU-91          [-1, 512, 16, 32]               0\n",
      "       BasicBlock-92          [-1, 512, 16, 32]               0\n",
      "           Conv2d-93          [-1, 512, 16, 32]       2,359,296\n",
      "      BatchNorm2d-94          [-1, 512, 16, 32]           1,024\n",
      "             ReLU-95          [-1, 512, 16, 32]               0\n",
      "           Conv2d-96          [-1, 512, 16, 32]       2,359,296\n",
      "      BatchNorm2d-97          [-1, 512, 16, 32]           1,024\n",
      "             ReLU-98          [-1, 512, 16, 32]               0\n",
      "       BasicBlock-99          [-1, 512, 16, 32]               0\n",
      "          Conv2d-100          [-1, 512, 16, 32]       2,359,808\n",
      "     BatchNorm2d-101          [-1, 512, 16, 32]           1,024\n",
      "            ReLU-102          [-1, 512, 16, 32]               0\n",
      "================================================================\n",
      "Total params: 45,975,680\n",
      "Trainable params: 45,975,680\n",
      "Non-trainable params: 0\n",
      "----------------------------------------------------------------\n",
      "Input size (MB): 0.06\n",
      "Forward/backward pass size (MB): 337.00\n",
      "Params size (MB): 175.38\n",
      "Estimated Total Size (MB): 512.45\n",
      "----------------------------------------------------------------\n"
     ]
    }
   ],
   "source": [
    "from torchsummary import summary\n",
    "\n",
    "summary(resnet31, input_size=(1, 128, 128))"
   ]
  },
  {
   "cell_type": "markdown",
   "id": "5fbb158e",
   "metadata": {},
   "source": [
    "## Transformer"
   ]
  },
  {
   "cell_type": "code",
   "execution_count": 10,
   "id": "2a853fa4",
   "metadata": {},
   "outputs": [],
   "source": [
    "from htr.models.fphtr.fphtr import FullPageHTRDecoder\n",
    "\n",
    "fphtr_decoder = FullPageHTRDecoder(10, 10, 0, 1, 2, 8, 2, 2, 2, 0.1)"
   ]
  },
  {
   "cell_type": "code",
   "execution_count": 11,
   "id": "a3f7140d",
   "metadata": {},
   "outputs": [
    {
     "data": {
      "text/plain": [
       "FullPageHTRDecoder(\n",
       "  (emb): Embedding(10, 8)\n",
       "  (pos_emb): PositionalEmbedding1D()\n",
       "  (decoder): TransformerDecoder(\n",
       "    (layers): ModuleList(\n",
       "      (0): TransformerDecoderLayer(\n",
       "        (self_attn): MultiheadAttention(\n",
       "          (out_proj): NonDynamicallyQuantizableLinear(in_features=8, out_features=8, bias=True)\n",
       "        )\n",
       "        (multihead_attn): MultiheadAttention(\n",
       "          (out_proj): NonDynamicallyQuantizableLinear(in_features=8, out_features=8, bias=True)\n",
       "        )\n",
       "        (linear1): Linear(in_features=8, out_features=2, bias=True)\n",
       "        (dropout): Dropout(p=0.1, inplace=False)\n",
       "        (linear2): Linear(in_features=2, out_features=8, bias=True)\n",
       "        (norm1): LayerNorm((8,), eps=1e-05, elementwise_affine=True)\n",
       "        (norm2): LayerNorm((8,), eps=1e-05, elementwise_affine=True)\n",
       "        (norm3): LayerNorm((8,), eps=1e-05, elementwise_affine=True)\n",
       "        (dropout1): Dropout(p=0.1, inplace=False)\n",
       "        (dropout2): Dropout(p=0.1, inplace=False)\n",
       "        (dropout3): Dropout(p=0.1, inplace=False)\n",
       "      )\n",
       "      (1): TransformerDecoderLayer(\n",
       "        (self_attn): MultiheadAttention(\n",
       "          (out_proj): NonDynamicallyQuantizableLinear(in_features=8, out_features=8, bias=True)\n",
       "        )\n",
       "        (multihead_attn): MultiheadAttention(\n",
       "          (out_proj): NonDynamicallyQuantizableLinear(in_features=8, out_features=8, bias=True)\n",
       "        )\n",
       "        (linear1): Linear(in_features=8, out_features=2, bias=True)\n",
       "        (dropout): Dropout(p=0.1, inplace=False)\n",
       "        (linear2): Linear(in_features=2, out_features=8, bias=True)\n",
       "        (norm1): LayerNorm((8,), eps=1e-05, elementwise_affine=True)\n",
       "        (norm2): LayerNorm((8,), eps=1e-05, elementwise_affine=True)\n",
       "        (norm3): LayerNorm((8,), eps=1e-05, elementwise_affine=True)\n",
       "        (dropout1): Dropout(p=0.1, inplace=False)\n",
       "        (dropout2): Dropout(p=0.1, inplace=False)\n",
       "        (dropout3): Dropout(p=0.1, inplace=False)\n",
       "      )\n",
       "    )\n",
       "  )\n",
       "  (clf): Linear(in_features=8, out_features=10, bias=True)\n",
       "  (drop): Dropout(p=0.1, inplace=False)\n",
       ")"
      ]
     },
     "execution_count": 11,
     "metadata": {},
     "output_type": "execute_result"
    }
   ],
   "source": [
    "fphtr_decoder"
   ]
  },
  {
   "cell_type": "code",
   "execution_count": 8,
   "id": "49c3a97e",
   "metadata": {},
   "outputs": [
    {
     "data": {
      "text/plain": [
       "(4,)"
      ]
     },
     "execution_count": 8,
     "metadata": {},
     "output_type": "execute_result"
    }
   ],
   "source": [
    "fphtr_decoder.decoder.layers[0].norm1.normalized_shape"
   ]
  },
  {
   "cell_type": "code",
   "execution_count": null,
   "id": "9f903d02",
   "metadata": {},
   "outputs": [],
   "source": []
  }
 ],
 "metadata": {
  "kernelspec": {
   "display_name": "Python 3",
   "language": "python",
   "name": "python3"
  },
  "language_info": {
   "codemirror_mode": {
    "name": "ipython",
    "version": 3
   },
   "file_extension": ".py",
   "mimetype": "text/x-python",
   "name": "python",
   "nbconvert_exporter": "python",
   "pygments_lexer": "ipython3",
   "version": "3.9.5"
  }
 },
 "nbformat": 4,
 "nbformat_minor": 5
}
