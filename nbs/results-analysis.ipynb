{
 "cells": [
  {
   "cell_type": "code",
   "execution_count": 1,
   "id": "c1d79275",
   "metadata": {},
   "outputs": [],
   "source": [
    "from pathlib import Path\n",
    "\n",
    "import numpy as np\n",
    "import matplotlib.pyplot as plt\n",
    "import seaborn as sns\n",
    "import pandas as pd"
   ]
  },
  {
   "cell_type": "code",
   "execution_count": 13,
   "id": "5800a7dd",
   "metadata": {},
   "outputs": [],
   "source": [
    "# sns.set_theme()\n",
    "sns.set_context(\"paper\", font_scale=1.2)"
   ]
  },
  {
   "cell_type": "markdown",
   "id": "a7a897b9",
   "metadata": {},
   "source": [
    "## Base model results"
   ]
  },
  {
   "cell_type": "markdown",
   "id": "cd775247",
   "metadata": {},
   "source": [
    "### WER on test"
   ]
  },
  {
   "cell_type": "code",
   "execution_count": 24,
   "id": "0c479815",
   "metadata": {},
   "outputs": [],
   "source": [
    "results = {\n",
    "    \"SAR-18\": [21.57, 21.21, 20.78, 19.67, 20.09],\n",
    "    \"FPHTR-18\": [20.2, 20.01, 20.15, 20.57, 19.92],\n",
    "    \"SAR-31\": [19.39, 19.66, 20.12, 20.67, 18.78],\n",
    "    \"FPHTR-31\": [14.58, 15.59, 15.43, 16.91, 15.54],\n",
    "}\n",
    "# results = pd.DataFrame(results)"
   ]
  },
  {
   "cell_type": "code",
   "execution_count": 25,
   "id": "805c9a50",
   "metadata": {},
   "outputs": [],
   "source": [
    "from itertools import chain\n",
    "\n",
    "data = pd.DataFrame({\n",
    "    \"model\": list(chain.from_iterable([[mn] * len(res) for mn, res in results.items()])),\n",
    "    \"WER\": list(chain.from_iterable([res for res in results.values()])),\n",
    "    \"size\": list(chain.from_iterable(([\"fphtr\"] if \"FPHTR\" in mn else [\"sar\"]) * len(res) for mn, res in results.items()))\n",
    "})\n",
    "# df = pd.DataFrame([mn, rs] for mn, rs in results.items())"
   ]
  },
  {
   "cell_type": "code",
   "execution_count": 26,
   "id": "1377a972",
   "metadata": {},
   "outputs": [
    {
     "data": {
      "text/html": [
       "<div>\n",
       "<style scoped>\n",
       "    .dataframe tbody tr th:only-of-type {\n",
       "        vertical-align: middle;\n",
       "    }\n",
       "\n",
       "    .dataframe tbody tr th {\n",
       "        vertical-align: top;\n",
       "    }\n",
       "\n",
       "    .dataframe thead th {\n",
       "        text-align: right;\n",
       "    }\n",
       "</style>\n",
       "<table border=\"1\" class=\"dataframe\">\n",
       "  <thead>\n",
       "    <tr style=\"text-align: right;\">\n",
       "      <th></th>\n",
       "      <th>model</th>\n",
       "      <th>WER</th>\n",
       "      <th>size</th>\n",
       "    </tr>\n",
       "  </thead>\n",
       "  <tbody>\n",
       "    <tr>\n",
       "      <th>0</th>\n",
       "      <td>SAR-18</td>\n",
       "      <td>21.57</td>\n",
       "      <td>sar</td>\n",
       "    </tr>\n",
       "    <tr>\n",
       "      <th>1</th>\n",
       "      <td>SAR-18</td>\n",
       "      <td>21.21</td>\n",
       "      <td>sar</td>\n",
       "    </tr>\n",
       "    <tr>\n",
       "      <th>2</th>\n",
       "      <td>SAR-18</td>\n",
       "      <td>20.78</td>\n",
       "      <td>sar</td>\n",
       "    </tr>\n",
       "    <tr>\n",
       "      <th>3</th>\n",
       "      <td>SAR-18</td>\n",
       "      <td>19.67</td>\n",
       "      <td>sar</td>\n",
       "    </tr>\n",
       "    <tr>\n",
       "      <th>4</th>\n",
       "      <td>SAR-18</td>\n",
       "      <td>20.09</td>\n",
       "      <td>sar</td>\n",
       "    </tr>\n",
       "  </tbody>\n",
       "</table>\n",
       "</div>"
      ],
      "text/plain": [
       "    model    WER size\n",
       "0  SAR-18  21.57  sar\n",
       "1  SAR-18  21.21  sar\n",
       "2  SAR-18  20.78  sar\n",
       "3  SAR-18  19.67  sar\n",
       "4  SAR-18  20.09  sar"
      ]
     },
     "execution_count": 26,
     "metadata": {},
     "output_type": "execute_result"
    }
   ],
   "source": [
    "data.head()"
   ]
  },
  {
   "cell_type": "code",
   "execution_count": 27,
   "id": "282419f9",
   "metadata": {},
   "outputs": [
    {
     "data": {
      "image/png": "[encoded data removed]",
      "text/plain": [
       "<Figure size 423.891x360 with 1 Axes>"
      ]
     },
     "metadata": {
      "needs_background": "light"
     },
     "output_type": "display_data"
    }
   ],
   "source": [
    "g = sns.catplot(\n",
    "    x=\"model\", \n",
    "    y=\"WER\",\n",
    "    data=data, \n",
    "    kind=\"bar\", \n",
    "    capsize=.2,  \n",
    "    hue=\"size\",\n",
    "    dodge=False,\n",
    "#     palette=\"dark\",\n",
    "#     alpha=.6,\n",
    ")\n",
    "g.set_axis_labels(\"\", \"WER\", fontsize=12)\n",
    "g.legend.remove()\n",
    "\n",
    "if True:\n",
    "    fig = g.fig\n",
    "    fig.savefig(\"base-test-wer.pdf\") "
   ]
  },
  {
   "cell_type": "markdown",
   "id": "fe313aa3",
   "metadata": {},
   "source": [
    "### CER on test"
   ]
  },
  {
   "cell_type": "code",
   "execution_count": 19,
   "id": "968ca1a1",
   "metadata": {},
   "outputs": [],
   "source": [
    "results = {\n",
    "    \"SAR-18\": [18.72, 17.48, 17.69, 15.78, 16.78],\n",
    "    \"FPHTR-18\": [16.69, 16.28, 16.46, 17.01, 16.38],\n",
    "    \"SAR-31\": [15.33, 15.83, 15.55, 17.23, 14.45],\n",
    "    \"FPHTR-31\": [9.98, 10.62, 10.87, 11.89, 10.89],\n",
    "}\n",
    "# results = pd.DataFrame(results)"
   ]
  },
  {
   "cell_type": "code",
   "execution_count": 20,
   "id": "37209146",
   "metadata": {},
   "outputs": [],
   "source": [
    "from itertools import chain\n",
    "\n",
    "data = pd.DataFrame({\n",
    "    \"model\": list(chain.from_iterable([[mn] * len(res) for mn, res in results.items()])),\n",
    "    \"CER\": list(chain.from_iterable([res for res in results.values()])),\n",
    "    \"size\": list(chain.from_iterable(([\"fphtr\"] if \"FPHTR\" in mn else [\"sar\"]) * len(res) for mn, res in results.items()))\n",
    "})\n",
    "# df = pd.DataFrame([mn, rs] for mn, rs in results.items())"
   ]
  },
  {
   "cell_type": "code",
   "execution_count": 21,
   "id": "0cc1aa08",
   "metadata": {},
   "outputs": [
    {
     "data": {
      "text/html": [
       "<div>\n",
       "<style scoped>\n",
       "    .dataframe tbody tr th:only-of-type {\n",
       "        vertical-align: middle;\n",
       "    }\n",
       "\n",
       "    .dataframe tbody tr th {\n",
       "        vertical-align: top;\n",
       "    }\n",
       "\n",
       "    .dataframe thead th {\n",
       "        text-align: right;\n",
       "    }\n",
       "</style>\n",
       "<table border=\"1\" class=\"dataframe\">\n",
       "  <thead>\n",
       "    <tr style=\"text-align: right;\">\n",
       "      <th></th>\n",
       "      <th>model</th>\n",
       "      <th>CER</th>\n",
       "      <th>size</th>\n",
       "    </tr>\n",
       "  </thead>\n",
       "  <tbody>\n",
       "    <tr>\n",
       "      <th>0</th>\n",
       "      <td>SAR-18</td>\n",
       "      <td>18.72</td>\n",
       "      <td>sar</td>\n",
       "    </tr>\n",
       "    <tr>\n",
       "      <th>1</th>\n",
       "      <td>SAR-18</td>\n",
       "      <td>17.48</td>\n",
       "      <td>sar</td>\n",
       "    </tr>\n",
       "    <tr>\n",
       "      <th>2</th>\n",
       "      <td>SAR-18</td>\n",
       "      <td>17.69</td>\n",
       "      <td>sar</td>\n",
       "    </tr>\n",
       "    <tr>\n",
       "      <th>3</th>\n",
       "      <td>SAR-18</td>\n",
       "      <td>15.78</td>\n",
       "      <td>sar</td>\n",
       "    </tr>\n",
       "    <tr>\n",
       "      <th>4</th>\n",
       "      <td>SAR-18</td>\n",
       "      <td>16.78</td>\n",
       "      <td>sar</td>\n",
       "    </tr>\n",
       "  </tbody>\n",
       "</table>\n",
       "</div>"
      ],
      "text/plain": [
       "    model    CER size\n",
       "0  SAR-18  18.72  sar\n",
       "1  SAR-18  17.48  sar\n",
       "2  SAR-18  17.69  sar\n",
       "3  SAR-18  15.78  sar\n",
       "4  SAR-18  16.78  sar"
      ]
     },
     "execution_count": 21,
     "metadata": {},
     "output_type": "execute_result"
    }
   ],
   "source": [
    "data.head()"
   ]
  },
  {
   "cell_type": "code",
   "execution_count": 23,
   "id": "6e9a02be",
   "metadata": {},
   "outputs": [
    {
     "data": {
      "image/png": "[encoded data removed]",
      "text/plain": [
       "<Figure size 423.891x360 with 1 Axes>"
      ]
     },
     "metadata": {
      "needs_background": "light"
     },
     "output_type": "display_data"
    }
   ],
   "source": [
    "g = sns.catplot(\n",
    "    x=\"model\", \n",
    "    y=\"CER\",\n",
    "    data=data, \n",
    "    kind=\"bar\", \n",
    "    capsize=.2,  \n",
    "    hue=\"size\",\n",
    "    dodge=False,\n",
    "#     palette=\"dark\",\n",
    "#     alpha=.6,\n",
    ")\n",
    "g.set_axis_labels(\"\", \"CER\")\n",
    "g.legend.remove()\n",
    "\n",
    "if True:\n",
    "    fig = g.fig\n",
    "    fig.savefig(\"base-test-cer.pdf\") "
   ]
  },
  {
   "cell_type": "code",
   "execution_count": null,
   "id": "7a9e9ad3",
   "metadata": {},
   "outputs": [],
   "source": []
  }
 ],
 "metadata": {
  "kernelspec": {
   "display_name": "Python 3",
   "language": "python",
   "name": "python3"
  },
  "language_info": {
   "codemirror_mode": {
    "name": "ipython",
    "version": 3
   },
   "file_extension": ".py",
   "mimetype": "text/x-python",
   "name": "python",
   "nbconvert_exporter": "python",
   "pygments_lexer": "ipython3",
   "version": "3.9.5"
  }
 },
 "nbformat": 4,
 "nbformat_minor": 5
}
